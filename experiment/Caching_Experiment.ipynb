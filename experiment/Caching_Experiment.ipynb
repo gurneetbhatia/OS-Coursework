{
 "cells": [
  {
   "cell_type": "markdown",
   "metadata": {},
   "source": [
    "<h1>Introduction</h1>\n",
    "<p>In this experiment, we will be running tests on various caching strategies. Their functionalities are described below.</p>\n",
    "<h3>No Cache</h3>\n",
    "<p>In this strategy, no cache is implemented, every memory lookup requires a memory access/hit. In this experiment, this would prove to be the baseline of comparison for other caching strategies.</p>\n",
    "<h3>Cyclic Cache</h3>\n",
    "<p>In this strategy, the cache is implemented as a queue-like structure since it follows the First-In-First-Out rule, also known as FIFO. In this caching method, if the element that we are looking for is found in the cache, we return it. If it is not, we dequeue the element at the start of the queue, access memory to fetch the element and add the element to the end of the queue.</p>\n",
    "<h3>Least Recently Used Cache</h3>\n",
    "<p>This caching method is also known as LRU in short. In this strategy, we could either use a 2D list or a combination of a dictionary and a list. The essence of its implementation is that if an element exists in the cache, we return it and change the ordering of the cache so that the element we just accessed is moved to the end of the list to signify that it is the most recently used address. If it is not found in the cache, we access memory to fetch it. After doing so, if the cache is full, we remove the first element of the list, which according to our implementation would be the least recently used address since the most recently used is located at the end of the list. After this, we add the address at the end of the list, again to signify that this was the most recently used element.</p>\n",
    "<h3>Random Cache</h3>\n",
    "<p>As the name suggests, this caching method evicts elements from the cache at random when the cache is full. It would be interesting to see how effective this strategy will prove to be as compared to the other ones.</p>"
   ]
  },
  {
   "cell_type": "markdown",
   "metadata": {},
   "source": [
    "<h2>Experiment</h2>"
   ]
  },
  {
   "cell_type": "markdown",
   "metadata": {},
   "source": [
    "<p>Let's start by first importing the caching strategies.</p>"
   ]
  },
  {
   "cell_type": "code",
   "execution_count": 1,
   "metadata": {
    "collapsed": true
   },
   "outputs": [],
   "source": [
    "from memory import Memory, CyclicCache, LRUCache, RandomCache"
   ]
  },
  {
   "cell_type": "code",
   "execution_count": null,
   "metadata": {
    "collapsed": true
   },
   "outputs": [],
   "source": []
  }
 ],
 "metadata": {
  "kernelspec": {
   "display_name": "Python 3",
   "language": "python",
   "name": "python3"
  },
  "language_info": {
   "codemirror_mode": {
    "name": "ipython",
    "version": 3
   },
   "file_extension": ".py",
   "mimetype": "text/x-python",
   "name": "python",
   "nbconvert_exporter": "python",
   "pygments_lexer": "ipython3",
   "version": "3.6.9"
  }
 },
 "nbformat": 4,
 "nbformat_minor": 2
}
